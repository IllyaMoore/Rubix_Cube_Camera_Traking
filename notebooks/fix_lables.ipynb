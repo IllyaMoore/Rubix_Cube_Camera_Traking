{
 "cells": [
  {
   "cell_type": "code",
   "execution_count": null,
   "id": "e31800fb",
   "metadata": {},
   "outputs": [],
   "source": [
    "import os\n",
    "\n",
    "labels_folder = r\"\"\n",
    "\n",
    "for filename in os.listdir(labels_folder):\n",
    "    if filename.endswith(\".txt\"):\n",
    "        path = os.path.join(labels_folder, filename)\n",
    "        with open(path, \"r\") as f:\n",
    "            lines = f.readlines()\n",
    "        \n",
    "        new_lines = []\n",
    "        for line in lines:\n",
    "            parts = line.strip().split()\n",
    "            # Замінюємо class_id на 0\n",
    "            parts[0] = \"0\"\n",
    "            new_lines.append(\" \".join(parts))\n",
    "        \n",
    "        with open(path, \"w\") as f:\n",
    "            f.write(\"\\n\".join(new_lines))\n",
    "\n"
   ]
  }
 ],
 "metadata": {
  "kernelspec": {
   "display_name": ".venv (3.13.0)",
   "language": "python",
   "name": "python3"
  },
  "language_info": {
   "codemirror_mode": {
    "name": "ipython",
    "version": 3
   },
   "file_extension": ".py",
   "mimetype": "text/x-python",
   "name": "python",
   "nbconvert_exporter": "python",
   "pygments_lexer": "ipython3",
   "version": "3.13.0"
  }
 },
 "nbformat": 4,
 "nbformat_minor": 5
}
