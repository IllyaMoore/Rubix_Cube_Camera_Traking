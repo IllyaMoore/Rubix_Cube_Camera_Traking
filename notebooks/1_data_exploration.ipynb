{
 "cells": [
  {
   "cell_type": "code",
   "execution_count": 20,
   "id": "0a27c4c2",
   "metadata": {},
   "outputs": [
    {
     "name": "stdout",
     "output_type": "stream",
     "text": [
      "Collecting Pillow\n",
      "  Using cached pillow-11.3.0-cp313-cp313-win_amd64.whl.metadata (9.2 kB)\n",
      "Using cached pillow-11.3.0-cp313-cp313-win_amd64.whl (7.0 MB)\n",
      "Installing collected packages: Pillow\n",
      "Successfully installed Pillow-11.3.0\n"
     ]
    },
    {
     "name": "stderr",
     "output_type": "stream",
     "text": [
      "\n",
      "[notice] A new release of pip is available: 24.2 -> 25.2\n",
      "[notice] To update, run: python.exe -m pip install --upgrade pip\n"
     ]
    }
   ],
   "source": [
    "!pip install Pillow"
   ]
  },
  {
   "cell_type": "code",
   "execution_count": 24,
   "id": "f3ff70a7",
   "metadata": {},
   "outputs": [],
   "source": [
    "import os \n",
    "import glob\n",
    "from dotenv import load_dotenv\n",
    "from PIL import Image\n",
    "from collections import Counter\n",
    "load_dotenv()\n",
    "CUBE_DATA = os.getenv(\"CUBE_DATA\")\n",
    "\n",
    "TEST_DATA = CUBE_DATA + r'\\test'\n",
    "TRAIN_DATA = CUBE_DATA + r'\\train'\n",
    "VALID_DATA = CUBE_DATA + r'\\valid'"
   ]
  },
  {
   "cell_type": "code",
   "execution_count": 18,
   "id": "7bef65a0",
   "metadata": {},
   "outputs": [
    {
     "name": "stdout",
     "output_type": "stream",
     "text": [
      "172\n",
      "49\n",
      "29\n"
     ]
    }
   ],
   "source": [
    "def count_imgs(path):\n",
    "    path = path + r'\\images'\n",
    "    images = glob.glob(f\"{path}/*.jpg\") + glob.glob(f\"{path}/*.png\") + glob.glob(f\"{path}/*.jpeg\")\n",
    "    print(len(images))\n",
    "    \n",
    "count_imgs(TRAIN_DATA)\n",
    "count_imgs(VALID_DATA)\n",
    "count_imgs(TEST_DATA)"
   ]
  },
  {
   "cell_type": "code",
   "execution_count": 47,
   "id": "dea14250",
   "metadata": {},
   "outputs": [
    {
     "name": "stdout",
     "output_type": "stream",
     "text": [
      "Counter({(416, 416): 172}) Counter({(416, 416): 49}) Counter({(416, 416): 29})\n"
     ]
    }
   ],
   "source": [
    "def resulution(path):\n",
    "    path = path + r'\\images'\n",
    "    images = glob.glob(f\"{path}/*.jpg\") + glob.glob(f\"{path}/*.png\") + glob.glob(f\"{path}/*.jpeg\")\n",
    "    res = []\n",
    "    for image in images:\n",
    "        img = Image.open(image)\n",
    "        res.append(img.size)\n",
    "    result = Counter(res)\n",
    "    return result\n",
    "    \n",
    "print(resulution(TRAIN_DATA),\n",
    "    resulution(VALID_DATA),\n",
    "    resulution(TEST_DATA))\n",
    "        "
   ]
  }
 ],
 "metadata": {
  "kernelspec": {
   "display_name": ".venv (3.13.0)",
   "language": "python",
   "name": "python3"
  },
  "language_info": {
   "codemirror_mode": {
    "name": "ipython",
    "version": 3
   },
   "file_extension": ".py",
   "mimetype": "text/x-python",
   "name": "python",
   "nbconvert_exporter": "python",
   "pygments_lexer": "ipython3",
   "version": "3.13.0"
  }
 },
 "nbformat": 4,
 "nbformat_minor": 5
}
